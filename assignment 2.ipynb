{
 "cells": [
  {
   "cell_type": "code",
   "execution_count": 1,
   "id": "422daa2b-11c0-45bd-affa-784fd1acc625",
   "metadata": {},
   "outputs": [
    {
     "name": "stdout",
     "output_type": "stream",
     "text": [
      "Hello, World!\n",
      "Hello, World!\n",
      "Hello, World!\n"
     ]
    }
   ],
   "source": [
    "#que 1\n",
    "#answer\n",
    "#we can add comments in python by using triple quotes and hastags\n",
    "#different types of comments are:-\n",
    "# This is a single-line comment\n",
    "print(\"Hello, World!\")  # This is another comment\n",
    "\"\"\"\n",
    "This is a multi-line comment\n",
    "spanning multiple lines.\n",
    "\"\"\"\n",
    "print(\"Hello, World!\")\n",
    "# This is a multi-line comment\n",
    "# spanning multiple lines.\n",
    "print(\"Hello, World!\")\n",
    "\n"
   ]
  },
  {
   "cell_type": "code",
   "execution_count": 2,
   "id": "3e4cfda8-ef37-4dea-8f85-aaf291ccc5c4",
   "metadata": {},
   "outputs": [],
   "source": [
    "#que2\n",
    "#answer \n",
    "#ariables are used to store and manipulate data. A variable is like a container that holds a value, and you can give it a name to refer to that value later in your code\n",
    "name = \"John\"  # Assigning a string value to the variable \"name\"\n",
    "age = 25  # Assigning an integer value to the variable \"age\"\n",
    "pi = 3.14  # Assigning a floating-point value to the variable \"pi\"\n",
    "is_student = True  # Assigning a boolean value to the variable \"is_student\"\n"
   ]
  },
  {
   "cell_type": "code",
   "execution_count": 4,
   "id": "23212baa-f56a-4144-9409-4f5f1f4aebe8",
   "metadata": {},
   "outputs": [
    {
     "data": {
      "text/plain": [
       "'int()\\nfloat()\\nlist()\\ntuples()\\ndict()\\nbool()\\nstr()\\netc'"
      ]
     },
     "execution_count": 4,
     "metadata": {},
     "output_type": "execute_result"
    }
   ],
   "source": [
    "#que 3\n",
    "#answer\n",
    "#we can convert one data type to another by using functions and constructors like:-\n",
    "\"\"\"int()\n",
    "float()\n",
    "list()\n",
    "tuples()\n",
    "dict()\n",
    "bool()\n",
    "str()\n",
    "etc\"\"\""
   ]
  },
  {
   "cell_type": "code",
   "execution_count": 5,
   "id": "09fde0f2-6f62-47e4-a97e-d1da6ad14b88",
   "metadata": {},
   "outputs": [],
   "source": [
    "#que 5\n",
    "#answer\n",
    "my_list = [1,2,3,4,5]\n"
   ]
  },
  {
   "cell_type": "code",
   "execution_count": 6,
   "id": "2ee9bd26-ce88-4e13-b98b-88a74d269abe",
   "metadata": {},
   "outputs": [
    {
     "data": {
      "text/plain": [
       "[2, 3]"
      ]
     },
     "execution_count": 6,
     "metadata": {},
     "output_type": "execute_result"
    }
   ],
   "source": [
    "my_list[1:3]"
   ]
  },
  {
   "cell_type": "code",
   "execution_count": 7,
   "id": "358b80b1-5d91-43b7-b3f4-dd525e9d5295",
   "metadata": {},
   "outputs": [],
   "source": [
    "#que 6\n",
    "#answer\n",
    "#In mathematics, a complex number is a number of the form a + bi, where a and b are real numbers, and i represents the imaginary unit. The imaginary unit i is defined as the square root of -1. \n",
    "complexnumber = 6+7j"
   ]
  },
  {
   "cell_type": "code",
   "execution_count": 9,
   "id": "d19a3a79-1f08-4b26-bfb6-a6af83e99bec",
   "metadata": {},
   "outputs": [
    {
     "data": {
      "text/plain": [
       "complex"
      ]
     },
     "execution_count": 9,
     "metadata": {},
     "output_type": "execute_result"
    }
   ],
   "source": [
    "type(complexnumber)"
   ]
  },
  {
   "cell_type": "code",
   "execution_count": 11,
   "id": "0763e0d6-b5b2-4e3c-8fc3-69852761d16e",
   "metadata": {},
   "outputs": [
    {
     "name": "stdout",
     "output_type": "stream",
     "text": [
      "my age is 25\n"
     ]
    }
   ],
   "source": [
    "#que 7\n",
    "#answer\n",
    "age = 25\n",
    "print(\"my age is\",age)"
   ]
  },
  {
   "cell_type": "code",
   "execution_count": 12,
   "id": "2d7323b6-14c7-4e9d-85c0-df9562d59d13",
   "metadata": {},
   "outputs": [],
   "source": [
    "#que 8\n",
    "#answer\n",
    "price = 99.9"
   ]
  },
  {
   "cell_type": "code",
   "execution_count": 13,
   "id": "48d9f201-c61e-4621-aa34-9ac4dded7b74",
   "metadata": {},
   "outputs": [
    {
     "data": {
      "text/plain": [
       "float"
      ]
     },
     "execution_count": 13,
     "metadata": {},
     "output_type": "execute_result"
    }
   ],
   "source": [
    "type(price)"
   ]
  },
  {
   "cell_type": "code",
   "execution_count": 14,
   "id": "655d3f85-ff6f-4931-86ec-3ab1f978ca71",
   "metadata": {},
   "outputs": [],
   "source": [
    "#que 9\n",
    "#answer\n",
    "name = 'yusuf bohra'"
   ]
  },
  {
   "cell_type": "code",
   "execution_count": 15,
   "id": "818e85dd-ef50-4c4e-88c2-0567ffccfae6",
   "metadata": {},
   "outputs": [
    {
     "name": "stdout",
     "output_type": "stream",
     "text": [
      "yusuf bohra\n"
     ]
    }
   ],
   "source": [
    "print(name)"
   ]
  },
  {
   "cell_type": "code",
   "execution_count": 21,
   "id": "008cd64e-de85-4852-9ff5-563451363efe",
   "metadata": {},
   "outputs": [
    {
     "data": {
      "text/plain": [
       "'World'"
      ]
     },
     "execution_count": 21,
     "metadata": {},
     "output_type": "execute_result"
    }
   ],
   "source": [
    "#que 10\n",
    "#answer\n",
    "s = \"Hello, World!\"\n",
    "s[7:12]\n"
   ]
  },
  {
   "cell_type": "code",
   "execution_count": null,
   "id": "16c8858f-4d90-425b-ac18-0e1701cd592d",
   "metadata": {},
   "outputs": [],
   "source": [
    "s =  \"is_student\"\n",
    "if s>1"
   ]
  }
 ],
 "metadata": {
  "kernelspec": {
   "display_name": "Python 3 (ipykernel)",
   "language": "python",
   "name": "python3"
  },
  "language_info": {
   "codemirror_mode": {
    "name": "ipython",
    "version": 3
   },
   "file_extension": ".py",
   "mimetype": "text/x-python",
   "name": "python",
   "nbconvert_exporter": "python",
   "pygments_lexer": "ipython3",
   "version": "3.10.8"
  }
 },
 "nbformat": 4,
 "nbformat_minor": 5
}
